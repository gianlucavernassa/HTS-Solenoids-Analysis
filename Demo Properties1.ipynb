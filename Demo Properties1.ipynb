{
 "cells": [
  {
   "cell_type": "markdown",
   "id": "426ac068-ca6f-466a-a1b3-2380774809c7",
   "metadata": {
    "source_hidden": true
   },
   "source": [
    "# Properties of HTS tapes"
   ]
  },
  {
   "cell_type": "code",
   "execution_count": 11,
   "id": "e4f53ca1-a309-4fd1-9c6f-7950ffcd0225",
   "metadata": {
    "tags": [
     "hide-input"
    ]
   },
   "outputs": [],
   "source": [
    "import mixtures_v2 as rm\n",
    "import numpy as np\n",
    "from IPython.display import display\n",
    "import sympy as sy\n",
    "\n",
    "mm = 1e-3\n",
    "mum = 1e-6\n",
    "MPa = 1e6\n",
    "GPa = MPa*1e3\n",
    "\n",
    "# thicknesses are TOTAL (accounting for multiple layers)\n",
    "theva = {'Cu': {'E': 90*GPa, 'nu': 0.3, 'thick': 22*mum, 'G' : 90*GPa/(2*(1+0.3))},\n",
    "        'ReBCO': {'E': 155*GPa, 'nu': 0.3, 'thick': 0*mum, 'G': 155*GPa/(2*(1+0.3))},\n",
    "        'SS': {'E': 208*GPa, 'nu': 0.3, 'thick': 45*mum, 'G': 208*GPa/(2*(1+0.3))}\n",
    "        }"
   ]
  },
  {
   "cell_type": "code",
   "execution_count": 12,
   "id": "69b9e034-cc30-48e2-a7ed-22b66c913ac4",
   "metadata": {
    "tags": [
     "hide-input"
    ]
   },
   "outputs": [
    {
     "name": "stdout",
     "output_type": "stream",
     "text": [
      "['Cu', 'ReBCO', 'SS']\n",
      "thicknesses: \n",
      " [22.  0. 45.] \n",
      " Moduli: \n",
      " [ 90. 155. 208.] \n",
      " Shear moduli: \n",
      " [34.61538462 59.61538462 80.        ] \n",
      " Poisson's ratii: \n",
      " [0.3 0.3 0.3]\n"
     ]
    }
   ],
   "source": [
    "thicknesses = np.array([])\n",
    "moduli = np.array([])\n",
    "Gi = np.array([])\n",
    "nui = np.array([])\n",
    "\n",
    "for mat, prop in theva.items():\n",
    "    thicknesses = np.append(thicknesses, prop['thick'])\n",
    "    moduli = np.append(moduli, prop['E'])\n",
    "    Gi = np.append(Gi, prop['G'])\n",
    "    nui = np.append(nui, prop['nu'])\n",
    "\n",
    "names = []\n",
    "for key, vals in theva.items():\n",
    "    names.append(key)\n",
    "print(names)    \n",
    "print('thicknesses: \\n', thicknesses/mum, '\\n Moduli: \\n', moduli/GPa, '\\n Shear moduli: \\n', Gi/GPa, '\\n Poisson\\'s ratii: \\n' , nui)\n",
    "\n",
    "tape_t = np.sum(thicknesses)"
   ]
  },
  {
   "cell_type": "code",
   "execution_count": 13,
   "id": "d92aa85c-2540-4cb7-af31-99c733f0d782",
   "metadata": {
    "tags": [
     "hide-input"
    ]
   },
   "outputs": [
    {
     "data": {
      "text/latex": [
       "$\\displaystyle E_{rr}$"
      ],
      "text/plain": [
       "E_rr"
      ]
     },
     "metadata": {},
     "output_type": "display_data"
    },
    {
     "data": {
      "text/plain": [
       "145402272200.32462"
      ]
     },
     "metadata": {},
     "output_type": "display_data"
    },
    {
     "data": {
      "text/latex": [
       "$\\displaystyle E_{\\phi\\phi}$"
      ],
      "text/plain": [
       "E_\\phi\\phi"
      ]
     },
     "metadata": {},
     "output_type": "display_data"
    },
    {
     "data": {
      "text/plain": [
       "169253731343.28357"
      ]
     },
     "metadata": {},
     "output_type": "display_data"
    },
    {
     "data": {
      "text/latex": [
       "$\\displaystyle E_{zz}$"
      ],
      "text/plain": [
       "E_zz"
      ]
     },
     "metadata": {},
     "output_type": "display_data"
    },
    {
     "data": {
      "text/plain": [
       "169253731343.28357"
      ]
     },
     "metadata": {},
     "output_type": "display_data"
    },
    {
     "data": {
      "text/latex": [
       "$\\displaystyle G_{r\\phi}$"
      ],
      "text/plain": [
       "G_r\\phi"
      ]
     },
     "metadata": {},
     "output_type": "display_data"
    },
    {
     "data": {
      "text/plain": [
       "55923950846.278694"
      ]
     },
     "metadata": {},
     "output_type": "display_data"
    },
    {
     "data": {
      "text/latex": [
       "$\\displaystyle G_{\\phi z}$"
      ],
      "text/plain": [
       "G_\\phi_z"
      ]
     },
     "metadata": {},
     "output_type": "display_data"
    },
    {
     "data": {
      "text/plain": [
       "65097588978.18599"
      ]
     },
     "metadata": {},
     "output_type": "display_data"
    },
    {
     "data": {
      "text/latex": [
       "$\\displaystyle G_{rz}$"
      ],
      "text/plain": [
       "G_rz"
      ]
     },
     "metadata": {},
     "output_type": "display_data"
    },
    {
     "data": {
      "text/plain": [
       "55923950846.278694"
      ]
     },
     "metadata": {},
     "output_type": "display_data"
    },
    {
     "data": {
      "text/latex": [
       "$\\displaystyle v_{\\phi r}$"
      ],
      "text/plain": [
       "v_\\phi_r"
      ]
     },
     "metadata": {},
     "output_type": "display_data"
    },
    {
     "data": {
      "text/plain": [
       "0.3"
      ]
     },
     "metadata": {},
     "output_type": "display_data"
    },
    {
     "data": {
      "text/latex": [
       "$\\displaystyle v_{\\phi z}$"
      ],
      "text/plain": [
       "v_\\phi_z"
      ]
     },
     "metadata": {},
     "output_type": "display_data"
    },
    {
     "data": {
      "text/plain": [
       "0.3"
      ]
     },
     "metadata": {},
     "output_type": "display_data"
    },
    {
     "data": {
      "text/latex": [
       "$\\displaystyle v_{zr}$"
      ],
      "text/plain": [
       "v_zr"
      ]
     },
     "metadata": {},
     "output_type": "display_data"
    },
    {
     "data": {
      "text/plain": [
       "0.3"
      ]
     },
     "metadata": {},
     "output_type": "display_data"
    },
    {
     "data": {
      "text/latex": [
       "$\\displaystyle C$"
      ],
      "text/plain": [
       "C"
      ]
     },
     "metadata": {},
     "output_type": "display_data"
    },
    {
     "data": {
      "text/latex": [
       "$\\displaystyle \\left[\\begin{matrix}186629934516.196 & 79984257649.7983 & 79984257649.7983 & 0 & 0 & 0\\\\79984257649.7983 & 220272078930.445 & 90076900974.0729 & 0 & 0 & 0\\\\79984257649.7983 & 90076900974.0729 & 220272078930.445 & 0 & 0 & 0\\\\0 & 0 & 0 & 55923950846.2787 & 0 & 0\\\\0 & 0 & 0 & 0 & 65097588978.186 & 0\\\\0 & 0 & 0 & 0 & 0 & 55923950846.2787\\end{matrix}\\right]$"
      ],
      "text/plain": [
       "Matrix([\n",
       "[186629934516.196, 79984257649.7983, 79984257649.7983,                0,               0,                0],\n",
       "[79984257649.7983, 220272078930.445, 90076900974.0729,                0,               0,                0],\n",
       "[79984257649.7983, 90076900974.0729, 220272078930.445,                0,               0,                0],\n",
       "[               0,                0,                0, 55923950846.2787,               0,                0],\n",
       "[               0,                0,                0,                0, 65097588978.186,                0],\n",
       "[               0,                0,                0,                0,               0, 55923950846.2787]])"
      ]
     },
     "metadata": {},
     "output_type": "display_data"
    },
    {
     "data": {
      "text/latex": [
       "$\\displaystyle S$"
      ],
      "text/plain": [
       "S"
      ]
     },
     "metadata": {},
     "output_type": "display_data"
    },
    {
     "data": {
      "text/latex": [
       "$\\displaystyle \\left[\\begin{matrix}6.87747161627759 \\cdot 10^{-12} & -1.77248677248677 \\cdot 10^{-12} & -1.77248677248677 \\cdot 10^{-12} & 0 & 0 & 0\\\\-1.77248677248677 \\cdot 10^{-12} & 5.90828924162258 \\cdot 10^{-12} & -1.77248677248677 \\cdot 10^{-12} & 0 & 0 & 0\\\\-1.77248677248677 \\cdot 10^{-12} & -1.77248677248677 \\cdot 10^{-12} & 5.90828924162258 \\cdot 10^{-12} & 0 & 0 & 0\\\\0 & 0 & 0 & 1.78814262023217 \\cdot 10^{-11} & 0 & 0\\\\0 & 0 & 0 & 0 & 1.53615520282187 \\cdot 10^{-11} & 0\\\\0 & 0 & 0 & 0 & 0 & 1.78814262023217 \\cdot 10^{-11}\\end{matrix}\\right]$"
      ],
      "text/plain": [
       "Matrix([\n",
       "[ 6.87747161627759e-12, -1.77248677248677e-12, -1.77248677248677e-12,                    0,                    0,                    0],\n",
       "[-1.77248677248677e-12,  5.90828924162258e-12, -1.77248677248677e-12,                    0,                    0,                    0],\n",
       "[-1.77248677248677e-12, -1.77248677248677e-12,  5.90828924162258e-12,                    0,                    0,                    0],\n",
       "[                    0,                     0,                     0, 1.78814262023217e-11,                    0,                    0],\n",
       "[                    0,                     0,                     0,                    0, 1.53615520282187e-11,                    0],\n",
       "[                    0,                     0,                     0,                    0,                    0, 1.78814262023217e-11]])"
      ]
     },
     "metadata": {},
     "output_type": "display_data"
    }
   ],
   "source": [
    "# Mechanical calculations. Module: rm\n",
    "err, ephiphi, ezz = sy.symbols('E_rr E_\\phi\\phi E_zz')\n",
    "grphi, gphiz, grz = sy.symbols('G_r\\phi G_\\phi_z G_rz')\n",
    "nuphir, nuphiz, nuzr = sy.symbols('v_\\phi_r v_\\phi_z v_zr')\n",
    "Cbar, Sbar = sy.symbols('C S')\n",
    "\n",
    "Er = rm.Ez(thicknesses, moduli)\n",
    "Eth = rm.Ex(thicknesses, moduli)\n",
    "Ez = Eth\n",
    "\n",
    "Gthz = rm.Gxy(thicknesses, Gi)\n",
    "Gthr = rm.Gxz(thicknesses, Gi)\n",
    "Gzr = Gthr\n",
    "\n",
    "nuthr = rm.nuxz(thicknesses, nui)\n",
    "nuthz = rm.nuxy(thicknesses, nui, moduli)\n",
    "\n",
    "Cc, Sc = rm.C_S_rthz(Er, Eth, nuthr, nuthz, Gthr, Gthz)\n",
    "\n",
    "Crr = Cc[0,0]\n",
    "Crth = Cc[0,1]\n",
    "Crz = Cc[0,2]\n",
    "Cthth = Cc[1,1]\n",
    "Cthz = Cc[1,2]\n",
    "Czz = Cc[2,2]\n",
    "\n",
    "kk1 = np.sqrt(Cthth/Crr)\n",
    "\n",
    "cc = sy.Matrix(Cc)\n",
    "ss = sy.Matrix(Sc)\n",
    "\n",
    "display(err, \n",
    "        Er,\n",
    "        ephiphi,\n",
    "        Eth,\n",
    "        ezz,\n",
    "        Ez,\n",
    "        grphi,\n",
    "        Gthr,\n",
    "        gphiz,\n",
    "        Gthz,\n",
    "        grz,\n",
    "        Gzr,\n",
    "        nuphir,\n",
    "        nuthr,\n",
    "        nuphiz,\n",
    "        nuthz,\n",
    "        nuzr,\n",
    "        nuthr,\n",
    "        Cbar,\n",
    "        cc,\n",
    "       Sbar,\n",
    "       ss)"
   ]
  }
 ],
 "metadata": {
  "celltoolbar": "Tags",
  "kernelspec": {
   "display_name": "Python 3 (ipykernel)",
   "language": "python",
   "name": "python3"
  },
  "language_info": {
   "codemirror_mode": {
    "name": "ipython",
    "version": 3
   },
   "file_extension": ".py",
   "mimetype": "text/x-python",
   "name": "python",
   "nbconvert_exporter": "python",
   "pygments_lexer": "ipython3",
   "version": "3.10.13"
  }
 },
 "nbformat": 4,
 "nbformat_minor": 5
}
